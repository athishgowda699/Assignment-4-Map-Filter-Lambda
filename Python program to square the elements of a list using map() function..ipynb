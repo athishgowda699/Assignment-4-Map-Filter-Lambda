{
 "cells": [
  {
   "cell_type": "code",
   "execution_count": 1,
   "id": "04292063",
   "metadata": {},
   "outputs": [
    {
     "data": {
      "text/plain": [
       "[16, 25, 4, 81]"
      ]
     },
     "execution_count": 1,
     "metadata": {},
     "output_type": "execute_result"
    }
   ],
   "source": [
    "list2=[4, 5, 2, 9]\n",
    "\n",
    "def square(number):\n",
    "    return number**2\n",
    "\n",
    "list(map(square,list2))"
   ]
  },
  {
   "cell_type": "code",
   "execution_count": null,
   "id": "956f62e6",
   "metadata": {},
   "outputs": [],
   "source": []
  }
 ],
 "metadata": {
  "kernelspec": {
   "display_name": "Python 3 (ipykernel)",
   "language": "python",
   "name": "python3"
  },
  "language_info": {
   "codemirror_mode": {
    "name": "ipython",
    "version": 3
   },
   "file_extension": ".py",
   "mimetype": "text/x-python",
   "name": "python",
   "nbconvert_exporter": "python",
   "pygments_lexer": "ipython3",
   "version": "3.10.1"
  }
 },
 "nbformat": 4,
 "nbformat_minor": 5
}
