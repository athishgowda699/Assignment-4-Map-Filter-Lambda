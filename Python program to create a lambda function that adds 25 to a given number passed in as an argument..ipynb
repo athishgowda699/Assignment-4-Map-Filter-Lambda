{
 "cells": [
  {
   "cell_type": "code",
   "execution_count": 6,
   "id": "64ebcaa8",
   "metadata": {},
   "outputs": [
    {
     "name": "stdout",
     "output_type": "stream",
     "text": [
      "Enter a number : 10\n",
      "Result is 35\n"
     ]
    }
   ],
   "source": [
    "add_value=int(input('Enter a number : '))\n",
    "addition=lambda number:number+25\n",
    "print('Result is {}'.format(addition(add_value)))"
   ]
  },
  {
   "cell_type": "code",
   "execution_count": null,
   "id": "cf0981cc",
   "metadata": {},
   "outputs": [],
   "source": []
  }
 ],
 "metadata": {
  "kernelspec": {
   "display_name": "Python 3 (ipykernel)",
   "language": "python",
   "name": "python3"
  },
  "language_info": {
   "codemirror_mode": {
    "name": "ipython",
    "version": 3
   },
   "file_extension": ".py",
   "mimetype": "text/x-python",
   "name": "python",
   "nbconvert_exporter": "python",
   "pygments_lexer": "ipython3",
   "version": "3.10.1"
  }
 },
 "nbformat": 4,
 "nbformat_minor": 5
}
